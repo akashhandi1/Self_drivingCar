{
  "nbformat": 4,
  "nbformat_minor": 0,
  "metadata": {
    "colab": {
      "provenance": [],
      "gpuType": "T4",
      "authorship_tag": "ABX9TyO4dyr3gM31nyIxK2Z7W/vl",
      "include_colab_link": true
    },
    "kernelspec": {
      "name": "python3",
      "display_name": "Python 3"
    },
    "language_info": {
      "name": "python"
    },
    "accelerator": "GPU"
  },
  "cells": [
    {
      "cell_type": "markdown",
      "metadata": {
        "id": "view-in-github",
        "colab_type": "text"
      },
      "source": [
        "<a href=\"https://colab.research.google.com/github/akashhandi1/Self_drivingCar/blob/main/Self_drivingCar.ipynb\" target=\"_parent\"><img src=\"https://colab.research.google.com/assets/colab-badge.svg\" alt=\"Open In Colab\"/></a>"
      ]
    },
    {
      "cell_type": "code",
      "source": [
        "#downloading data\n",
        "!git clone https://github.com/rslim087a/track"
      ],
      "metadata": {
        "colab": {
          "base_uri": "https://localhost:8080/"
        },
        "id": "TK9Mdwxe0ty4",
        "outputId": "6ed61d1d-3d2a-411a-d48f-be153450c9af"
      },
      "execution_count": 1,
      "outputs": [
        {
          "output_type": "stream",
          "name": "stdout",
          "text": [
            "Cloning into 'track'...\n",
            "remote: Enumerating objects: 12163, done.\u001b[K\n",
            "remote: Total 12163 (delta 0), reused 0 (delta 0), pack-reused 12163 (from 1)\u001b[K\n",
            "Receiving objects: 100% (12163/12163), 156.98 MiB | 16.06 MiB/s, done.\n",
            "Updating files: 100% (12160/12160), done.\n"
          ]
        }
      ]
    },
    {
      "cell_type": "code",
      "source": [
        "import os\n",
        "import numpy as np\n"
      ],
      "metadata": {
        "id": "0ZJwmGoy1THp"
      },
      "execution_count": null,
      "outputs": []
    }
  ]
}